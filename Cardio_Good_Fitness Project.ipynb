{
 "cells": [
  {
   "cell_type": "markdown",
   "id": "8387e3cb",
   "metadata": {},
   "source": [
    "# Cardio Good Fitness"
   ]
  },
  {
   "cell_type": "code",
   "execution_count": 273,
   "id": "d1c14dfc",
   "metadata": {},
   "outputs": [],
   "source": [
    "# Importing relevant libraries\n",
    "import pandas as pd\n",
    "import numpy as np"
   ]
  },
  {
   "cell_type": "code",
   "execution_count": 274,
   "id": "4debf962",
   "metadata": {},
   "outputs": [
    {
     "data": {
      "text/html": [
       "<div>\n",
       "<style scoped>\n",
       "    .dataframe tbody tr th:only-of-type {\n",
       "        vertical-align: middle;\n",
       "    }\n",
       "\n",
       "    .dataframe tbody tr th {\n",
       "        vertical-align: top;\n",
       "    }\n",
       "\n",
       "    .dataframe thead th {\n",
       "        text-align: right;\n",
       "    }\n",
       "</style>\n",
       "<table border=\"1\" class=\"dataframe\">\n",
       "  <thead>\n",
       "    <tr style=\"text-align: right;\">\n",
       "      <th></th>\n",
       "      <th>Product</th>\n",
       "      <th>Age</th>\n",
       "      <th>Gender</th>\n",
       "      <th>Education</th>\n",
       "      <th>MaritalStatus</th>\n",
       "      <th>Usage</th>\n",
       "      <th>Fitness</th>\n",
       "      <th>Income</th>\n",
       "      <th>Miles</th>\n",
       "    </tr>\n",
       "  </thead>\n",
       "  <tbody>\n",
       "    <tr>\n",
       "      <th>0</th>\n",
       "      <td>TM195</td>\n",
       "      <td>18</td>\n",
       "      <td>Male</td>\n",
       "      <td>14</td>\n",
       "      <td>Single</td>\n",
       "      <td>3</td>\n",
       "      <td>4</td>\n",
       "      <td>29562</td>\n",
       "      <td>112</td>\n",
       "    </tr>\n",
       "    <tr>\n",
       "      <th>1</th>\n",
       "      <td>TM195</td>\n",
       "      <td>19</td>\n",
       "      <td>Male</td>\n",
       "      <td>15</td>\n",
       "      <td>Single</td>\n",
       "      <td>2</td>\n",
       "      <td>3</td>\n",
       "      <td>31836</td>\n",
       "      <td>75</td>\n",
       "    </tr>\n",
       "    <tr>\n",
       "      <th>2</th>\n",
       "      <td>TM195</td>\n",
       "      <td>19</td>\n",
       "      <td>Female</td>\n",
       "      <td>14</td>\n",
       "      <td>Partnered</td>\n",
       "      <td>4</td>\n",
       "      <td>3</td>\n",
       "      <td>30699</td>\n",
       "      <td>66</td>\n",
       "    </tr>\n",
       "    <tr>\n",
       "      <th>3</th>\n",
       "      <td>TM195</td>\n",
       "      <td>19</td>\n",
       "      <td>Male</td>\n",
       "      <td>12</td>\n",
       "      <td>Single</td>\n",
       "      <td>3</td>\n",
       "      <td>3</td>\n",
       "      <td>32973</td>\n",
       "      <td>85</td>\n",
       "    </tr>\n",
       "    <tr>\n",
       "      <th>4</th>\n",
       "      <td>TM195</td>\n",
       "      <td>20</td>\n",
       "      <td>Male</td>\n",
       "      <td>13</td>\n",
       "      <td>Partnered</td>\n",
       "      <td>4</td>\n",
       "      <td>2</td>\n",
       "      <td>35247</td>\n",
       "      <td>47</td>\n",
       "    </tr>\n",
       "  </tbody>\n",
       "</table>\n",
       "</div>"
      ],
      "text/plain": [
       "  Product  Age  Gender  Education MaritalStatus  Usage  Fitness  Income  Miles\n",
       "0   TM195   18    Male         14        Single      3        4   29562    112\n",
       "1   TM195   19    Male         15        Single      2        3   31836     75\n",
       "2   TM195   19  Female         14     Partnered      4        3   30699     66\n",
       "3   TM195   19    Male         12        Single      3        3   32973     85\n",
       "4   TM195   20    Male         13     Partnered      4        2   35247     47"
      ]
     },
     "execution_count": 274,
     "metadata": {},
     "output_type": "execute_result"
    }
   ],
   "source": [
    "# Reading in the CSV file\n",
    "cardio_df = pd.read_csv('CardioGoodFitness.csv')\n",
    "df = cardio_df.copy()\n",
    "df.head()"
   ]
  },
  {
   "cell_type": "markdown",
   "id": "9b74e69f",
   "metadata": {},
   "source": [
    "## Exploratory Data Analysis"
   ]
  },
  {
   "cell_type": "code",
   "execution_count": 275,
   "id": "a33b3db2",
   "metadata": {},
   "outputs": [
    {
     "data": {
      "text/plain": [
       "(180, 9)"
      ]
     },
     "execution_count": 275,
     "metadata": {},
     "output_type": "execute_result"
    }
   ],
   "source": [
    "df.shape"
   ]
  },
  {
   "cell_type": "markdown",
   "id": "1987c4e7",
   "metadata": {},
   "source": [
    "- The data set has 180 rows and 9 columns"
   ]
  },
  {
   "cell_type": "code",
   "execution_count": 276,
   "id": "89fb7886",
   "metadata": {},
   "outputs": [
    {
     "data": {
      "text/plain": [
       "0"
      ]
     },
     "execution_count": 276,
     "metadata": {},
     "output_type": "execute_result"
    }
   ],
   "source": [
    "df.duplicated().sum()"
   ]
  },
  {
   "cell_type": "markdown",
   "id": "0309bc02",
   "metadata": {},
   "source": [
    "- There are no duplicated values in the data set"
   ]
  },
  {
   "cell_type": "code",
   "execution_count": 277,
   "id": "89446d56",
   "metadata": {},
   "outputs": [
    {
     "data": {
      "text/plain": [
       "Product          0\n",
       "Age              0\n",
       "Gender           0\n",
       "Education        0\n",
       "MaritalStatus    0\n",
       "Usage            0\n",
       "Fitness          0\n",
       "Income           0\n",
       "Miles            0\n",
       "dtype: int64"
      ]
     },
     "execution_count": 277,
     "metadata": {},
     "output_type": "execute_result"
    }
   ],
   "source": [
    "df.isnull().sum()"
   ]
  },
  {
   "cell_type": "markdown",
   "id": "18c871fb",
   "metadata": {},
   "source": [
    "- There are no null values in the data set"
   ]
  },
  {
   "cell_type": "code",
   "execution_count": 278,
   "id": "d363ef3c",
   "metadata": {},
   "outputs": [
    {
     "name": "stdout",
     "output_type": "stream",
     "text": [
      "<class 'pandas.core.frame.DataFrame'>\n",
      "RangeIndex: 180 entries, 0 to 179\n",
      "Data columns (total 9 columns):\n",
      " #   Column         Non-Null Count  Dtype \n",
      "---  ------         --------------  ----- \n",
      " 0   Product        180 non-null    object\n",
      " 1   Age            180 non-null    int64 \n",
      " 2   Gender         180 non-null    object\n",
      " 3   Education      180 non-null    int64 \n",
      " 4   MaritalStatus  180 non-null    object\n",
      " 5   Usage          180 non-null    int64 \n",
      " 6   Fitness        180 non-null    int64 \n",
      " 7   Income         180 non-null    int64 \n",
      " 8   Miles          180 non-null    int64 \n",
      "dtypes: int64(6), object(3)\n",
      "memory usage: 12.8+ KB\n"
     ]
    }
   ],
   "source": [
    "df.info()"
   ]
  },
  {
   "cell_type": "markdown",
   "id": "073299f6",
   "metadata": {},
   "source": [
    "- All data types are casted appropriately"
   ]
  },
  {
   "cell_type": "code",
   "execution_count": 279,
   "id": "84ebd704",
   "metadata": {
    "scrolled": false
   },
   "outputs": [
    {
     "name": "stdout",
     "output_type": "stream",
     "text": [
      "Product:\n",
      "\n",
      "['TM195' 'TM498' 'TM798']\n",
      "________________________________________________________________________________\n",
      "Age:\n",
      "\n",
      "[18 19 20 21 22 23 24 25 26 27 28 29 30 31 32 33 34 35 36 37 38 39 40 41\n",
      " 43 44 46 47 50 45 48 42]\n",
      "________________________________________________________________________________\n",
      "Gender:\n",
      "\n",
      "['Male' 'Female']\n",
      "________________________________________________________________________________\n",
      "Education:\n",
      "\n",
      "[14 15 12 13 16 18 20 21]\n",
      "________________________________________________________________________________\n",
      "MaritalStatus:\n",
      "\n",
      "['Single' 'Partnered']\n",
      "________________________________________________________________________________\n",
      "Usage:\n",
      "\n",
      "[3 2 4 5 6 7]\n",
      "________________________________________________________________________________\n",
      "Fitness:\n",
      "\n",
      "[4 3 2 1 5]\n",
      "________________________________________________________________________________\n",
      "Income:\n",
      "\n",
      "[ 29562  31836  30699  32973  35247  37521  36384  38658  40932  34110\n",
      "  39795  42069  44343  45480  46617  48891  53439  43206  52302  51165\n",
      "  50028  54576  68220  55713  60261  67083  56850  59124  61398  57987\n",
      "  64809  47754  65220  62535  48658  54781  48556  58516  53536  61006\n",
      "  57271  52291  49801  62251  64741  70966  75946  74701  69721  83416\n",
      "  88396  90886  92131  77191  52290  85906 103336  99601  89641  95866\n",
      " 104581  95508]\n",
      "________________________________________________________________________________\n",
      "Miles:\n",
      "\n",
      "[112  75  66  85  47 141 103  94 113  38 188  56 132 169  64  53 106  95\n",
      " 212  42 127  74 170  21 120 200 140 100  80 160 180 240 150 300 280 260\n",
      " 360]\n",
      "________________________________________________________________________________\n"
     ]
    }
   ],
   "source": [
    "# Checking for empty values as they do not appear as null values\n",
    "for i in df.columns:\n",
    "    print(f'{i}:\\n')\n",
    "    print(f'{df[i].unique()}')\n",
    "    print('_' * 80)"
   ]
  },
  {
   "cell_type": "markdown",
   "id": "f60c5e0f",
   "metadata": {},
   "source": [
    "- No empty values in the data set"
   ]
  },
  {
   "cell_type": "code",
   "execution_count": 280,
   "id": "b93f28ea",
   "metadata": {},
   "outputs": [
    {
     "data": {
      "text/html": [
       "<div>\n",
       "<style scoped>\n",
       "    .dataframe tbody tr th:only-of-type {\n",
       "        vertical-align: middle;\n",
       "    }\n",
       "\n",
       "    .dataframe tbody tr th {\n",
       "        vertical-align: top;\n",
       "    }\n",
       "\n",
       "    .dataframe thead th {\n",
       "        text-align: right;\n",
       "    }\n",
       "</style>\n",
       "<table border=\"1\" class=\"dataframe\">\n",
       "  <thead>\n",
       "    <tr style=\"text-align: right;\">\n",
       "      <th></th>\n",
       "      <th>count</th>\n",
       "      <th>mean</th>\n",
       "      <th>std</th>\n",
       "      <th>min</th>\n",
       "      <th>25%</th>\n",
       "      <th>50%</th>\n",
       "      <th>75%</th>\n",
       "      <th>max</th>\n",
       "    </tr>\n",
       "  </thead>\n",
       "  <tbody>\n",
       "    <tr>\n",
       "      <th>Age</th>\n",
       "      <td>180.0</td>\n",
       "      <td>28.788889</td>\n",
       "      <td>6.943498</td>\n",
       "      <td>18.0</td>\n",
       "      <td>24.00</td>\n",
       "      <td>26.0</td>\n",
       "      <td>33.00</td>\n",
       "      <td>50.0</td>\n",
       "    </tr>\n",
       "    <tr>\n",
       "      <th>Education</th>\n",
       "      <td>180.0</td>\n",
       "      <td>15.572222</td>\n",
       "      <td>1.617055</td>\n",
       "      <td>12.0</td>\n",
       "      <td>14.00</td>\n",
       "      <td>16.0</td>\n",
       "      <td>16.00</td>\n",
       "      <td>21.0</td>\n",
       "    </tr>\n",
       "    <tr>\n",
       "      <th>Usage</th>\n",
       "      <td>180.0</td>\n",
       "      <td>3.455556</td>\n",
       "      <td>1.084797</td>\n",
       "      <td>2.0</td>\n",
       "      <td>3.00</td>\n",
       "      <td>3.0</td>\n",
       "      <td>4.00</td>\n",
       "      <td>7.0</td>\n",
       "    </tr>\n",
       "    <tr>\n",
       "      <th>Fitness</th>\n",
       "      <td>180.0</td>\n",
       "      <td>3.311111</td>\n",
       "      <td>0.958869</td>\n",
       "      <td>1.0</td>\n",
       "      <td>3.00</td>\n",
       "      <td>3.0</td>\n",
       "      <td>4.00</td>\n",
       "      <td>5.0</td>\n",
       "    </tr>\n",
       "    <tr>\n",
       "      <th>Income</th>\n",
       "      <td>180.0</td>\n",
       "      <td>53719.577778</td>\n",
       "      <td>16506.684226</td>\n",
       "      <td>29562.0</td>\n",
       "      <td>44058.75</td>\n",
       "      <td>50596.5</td>\n",
       "      <td>58668.00</td>\n",
       "      <td>104581.0</td>\n",
       "    </tr>\n",
       "    <tr>\n",
       "      <th>Miles</th>\n",
       "      <td>180.0</td>\n",
       "      <td>103.194444</td>\n",
       "      <td>51.863605</td>\n",
       "      <td>21.0</td>\n",
       "      <td>66.00</td>\n",
       "      <td>94.0</td>\n",
       "      <td>114.75</td>\n",
       "      <td>360.0</td>\n",
       "    </tr>\n",
       "  </tbody>\n",
       "</table>\n",
       "</div>"
      ],
      "text/plain": [
       "           count          mean           std      min       25%      50%  \\\n",
       "Age        180.0     28.788889      6.943498     18.0     24.00     26.0   \n",
       "Education  180.0     15.572222      1.617055     12.0     14.00     16.0   \n",
       "Usage      180.0      3.455556      1.084797      2.0      3.00      3.0   \n",
       "Fitness    180.0      3.311111      0.958869      1.0      3.00      3.0   \n",
       "Income     180.0  53719.577778  16506.684226  29562.0  44058.75  50596.5   \n",
       "Miles      180.0    103.194444     51.863605     21.0     66.00     94.0   \n",
       "\n",
       "                75%       max  \n",
       "Age           33.00      50.0  \n",
       "Education     16.00      21.0  \n",
       "Usage          4.00       7.0  \n",
       "Fitness        4.00       5.0  \n",
       "Income     58668.00  104581.0  \n",
       "Miles        114.75     360.0  "
      ]
     },
     "execution_count": 280,
     "metadata": {},
     "output_type": "execute_result"
    }
   ],
   "source": [
    "# Statistical summary of the numerical values in the data set\n",
    "df.describe().T"
   ]
  },
  {
   "cell_type": "markdown",
   "id": "f2523efd",
   "metadata": {},
   "source": [
    "## Data Visualisation"
   ]
  },
  {
   "cell_type": "markdown",
   "id": "969e16b4",
   "metadata": {},
   "source": [
    "### Univariate Data Analysis"
   ]
  },
  {
   "cell_type": "code",
   "execution_count": 281,
   "id": "23a3dfbb",
   "metadata": {},
   "outputs": [],
   "source": [
    "# importing relevant libraries\n",
    "import seaborn as sns\n",
    "import matplotlib.pyplot as plt \n",
    "import plotly.express as px"
   ]
  },
  {
   "cell_type": "code",
   "execution_count": 282,
   "id": "3f160bb3",
   "metadata": {
    "scrolled": false
   },
   "outputs": [],
   "source": [
    "# Function for univariate plots\n",
    "def univariate_plot(var, plot_type = sns.countplot):\n",
    "    plt.figure(figsize=(10, 5))\n",
    "    plot_type(data=df, x=var)\n",
    "    plt.xticks(rotation = 90)\n",
    "    plt.title(f'{var} Distribution');   "
   ]
  },
  {
   "cell_type": "code",
   "execution_count": 283,
   "id": "e765d90f",
   "metadata": {},
   "outputs": [
    {
     "data": {
      "text/html": [
       "<div>\n",
       "<style scoped>\n",
       "    .dataframe tbody tr th:only-of-type {\n",
       "        vertical-align: middle;\n",
       "    }\n",
       "\n",
       "    .dataframe tbody tr th {\n",
       "        vertical-align: top;\n",
       "    }\n",
       "\n",
       "    .dataframe thead th {\n",
       "        text-align: right;\n",
       "    }\n",
       "</style>\n",
       "<table border=\"1\" class=\"dataframe\">\n",
       "  <thead>\n",
       "    <tr style=\"text-align: right;\">\n",
       "      <th></th>\n",
       "      <th>Product</th>\n",
       "      <th>Age</th>\n",
       "      <th>Gender</th>\n",
       "      <th>Education</th>\n",
       "      <th>MaritalStatus</th>\n",
       "      <th>Usage</th>\n",
       "      <th>Fitness</th>\n",
       "      <th>Income</th>\n",
       "      <th>Miles</th>\n",
       "    </tr>\n",
       "  </thead>\n",
       "  <tbody>\n",
       "    <tr>\n",
       "      <th>0</th>\n",
       "      <td>TM195</td>\n",
       "      <td>18</td>\n",
       "      <td>Male</td>\n",
       "      <td>14</td>\n",
       "      <td>Single</td>\n",
       "      <td>3</td>\n",
       "      <td>4</td>\n",
       "      <td>29562</td>\n",
       "      <td>112</td>\n",
       "    </tr>\n",
       "    <tr>\n",
       "      <th>1</th>\n",
       "      <td>TM195</td>\n",
       "      <td>19</td>\n",
       "      <td>Male</td>\n",
       "      <td>15</td>\n",
       "      <td>Single</td>\n",
       "      <td>2</td>\n",
       "      <td>3</td>\n",
       "      <td>31836</td>\n",
       "      <td>75</td>\n",
       "    </tr>\n",
       "    <tr>\n",
       "      <th>2</th>\n",
       "      <td>TM195</td>\n",
       "      <td>19</td>\n",
       "      <td>Female</td>\n",
       "      <td>14</td>\n",
       "      <td>Partnered</td>\n",
       "      <td>4</td>\n",
       "      <td>3</td>\n",
       "      <td>30699</td>\n",
       "      <td>66</td>\n",
       "    </tr>\n",
       "    <tr>\n",
       "      <th>3</th>\n",
       "      <td>TM195</td>\n",
       "      <td>19</td>\n",
       "      <td>Male</td>\n",
       "      <td>12</td>\n",
       "      <td>Single</td>\n",
       "      <td>3</td>\n",
       "      <td>3</td>\n",
       "      <td>32973</td>\n",
       "      <td>85</td>\n",
       "    </tr>\n",
       "    <tr>\n",
       "      <th>4</th>\n",
       "      <td>TM195</td>\n",
       "      <td>20</td>\n",
       "      <td>Male</td>\n",
       "      <td>13</td>\n",
       "      <td>Partnered</td>\n",
       "      <td>4</td>\n",
       "      <td>2</td>\n",
       "      <td>35247</td>\n",
       "      <td>47</td>\n",
       "    </tr>\n",
       "  </tbody>\n",
       "</table>\n",
       "</div>"
      ],
      "text/plain": [
       "  Product  Age  Gender  Education MaritalStatus  Usage  Fitness  Income  Miles\n",
       "0   TM195   18    Male         14        Single      3        4   29562    112\n",
       "1   TM195   19    Male         15        Single      2        3   31836     75\n",
       "2   TM195   19  Female         14     Partnered      4        3   30699     66\n",
       "3   TM195   19    Male         12        Single      3        3   32973     85\n",
       "4   TM195   20    Male         13     Partnered      4        2   35247     47"
      ]
     },
     "execution_count": 283,
     "metadata": {},
     "output_type": "execute_result"
    }
   ],
   "source": [
    "df.head()"
   ]
  },
  {
   "cell_type": "markdown",
   "id": "1efee6cd",
   "metadata": {},
   "source": [
    "### Product"
   ]
  },
  {
   "cell_type": "code",
   "execution_count": 284,
   "id": "2dabf5ec",
   "metadata": {},
   "outputs": [
    {
     "data": {
      "image/png": "[encoded data removed]",
      "text/plain": [
       "<Figure size 720x360 with 1 Axes>"
      ]
     },
     "metadata": {
      "needs_background": "light"
     },
     "output_type": "display_data"
    }
   ],
   "source": [
    "univariate_plot('Product')"
   ]
  },
  {
   "cell_type": "markdown",
   "id": "9bd00a93",
   "metadata": {},
   "source": [
    "- The TM195 treadmill is the most purchased product, followed by the TM498, then the TM798"
   ]
  },
  {
   "cell_type": "markdown",
   "id": "e3a4132d",
   "metadata": {},
   "source": [
    "### Age"
   ]
  },
  {
   "cell_type": "code",
   "execution_count": 285,
   "id": "cd8d719e",
   "metadata": {},
   "outputs": [
    {
     "data": {
      "image/png": "[encoded data removed]",
      "text/plain": [
       "<Figure size 720x360 with 1 Axes>"
      ]
     },
     "metadata": {
      "needs_background": "light"
     },
     "output_type": "display_data"
    }
   ],
   "source": [
    "univariate_plot('Age')"
   ]
  },
  {
   "cell_type": "markdown",
   "id": "e31fcd47",
   "metadata": {},
   "source": [
    "- Many of the users are 25 years old.  \n",
    "- Many customers are between 23 and 26 years. This points out that the company's products are popular among young people in their 20s."
   ]
  },
  {
   "cell_type": "code",
   "execution_count": 286,
   "id": "8c229483",
   "metadata": {},
   "outputs": [
    {
     "data": {
      "image/png": "[encoded data removed]",
      "text/plain": [
       "<Figure size 720x360 with 1 Axes>"
      ]
     },
     "metadata": {
      "needs_background": "light"
     },
     "output_type": "display_data"
    }
   ],
   "source": [
    "univariate_plot('Age', sns.histplot)"
   ]
  },
  {
   "cell_type": "markdown",
   "id": "ce43b77c",
   "metadata": {},
   "source": [
    "- The distribution is right skewed"
   ]
  },
  {
   "cell_type": "markdown",
   "id": "c51b67ff",
   "metadata": {},
   "source": [
    "### Gender"
   ]
  },
  {
   "cell_type": "code",
   "execution_count": 287,
   "id": "6ee08152",
   "metadata": {},
   "outputs": [
    {
     "data": {
      "image/png": "[encoded data removed]",
      "text/plain": [
       "<Figure size 720x360 with 1 Axes>"
      ]
     },
     "metadata": {
      "needs_background": "light"
     },
     "output_type": "display_data"
    }
   ],
   "source": [
    "univariate_plot('Gender')"
   ]
  },
  {
   "cell_type": "markdown",
   "id": "01058047",
   "metadata": {},
   "source": [
    "- Males purchase the product more than females"
   ]
  },
  {
   "cell_type": "markdown",
   "id": "a6dbb31f",
   "metadata": {},
   "source": [
    "### Education"
   ]
  },
  {
   "cell_type": "code",
   "execution_count": 288,
   "id": "2a1a7ea8",
   "metadata": {},
   "outputs": [
    {
     "data": {
      "image/png": "[encoded data removed]",
      "text/plain": [
       "<Figure size 720x360 with 1 Axes>"
      ]
     },
     "metadata": {
      "needs_background": "light"
     },
     "output_type": "display_data"
    }
   ],
   "source": [
    "univariate_plot('Education')"
   ]
  },
  {
   "cell_type": "markdown",
   "id": "1fa8ce45",
   "metadata": {},
   "source": [
    "- Most customers' education level is 16, followed by 14 and then 18"
   ]
  },
  {
   "cell_type": "markdown",
   "id": "dbbb54c0",
   "metadata": {},
   "source": [
    "### Marital Status"
   ]
  },
  {
   "cell_type": "code",
   "execution_count": 289,
   "id": "92d262f2",
   "metadata": {},
   "outputs": [
    {
     "data": {
      "image/png": "[encoded data removed]",
      "text/plain": [
       "<Figure size 720x360 with 1 Axes>"
      ]
     },
     "metadata": {
      "needs_background": "light"
     },
     "output_type": "display_data"
    }
   ],
   "source": [
    "univariate_plot('MaritalStatus')"
   ]
  },
  {
   "cell_type": "markdown",
   "id": "d67ee70d",
   "metadata": {},
   "source": [
    "- Most customers are in relationships"
   ]
  },
  {
   "cell_type": "markdown",
   "id": "009fde8b",
   "metadata": {},
   "source": [
    "### Usage"
   ]
  },
  {
   "cell_type": "code",
   "execution_count": 290,
   "id": "1d7cfa0c",
   "metadata": {},
   "outputs": [
    {
     "data": {
      "image/png": "[encoded data removed]",
      "text/plain": [
       "<Figure size 720x360 with 1 Axes>"
      ]
     },
     "metadata": {
      "needs_background": "light"
     },
     "output_type": "display_data"
    }
   ],
   "source": [
    "univariate_plot('Usage')"
   ]
  },
  {
   "cell_type": "markdown",
   "id": "87126c32",
   "metadata": {},
   "source": [
    "- Most users use the product 2 - 4 times a week. The highest being 3 times a week"
   ]
  },
  {
   "cell_type": "markdown",
   "id": "6b1d50fc",
   "metadata": {},
   "source": [
    "### Fitness"
   ]
  },
  {
   "cell_type": "code",
   "execution_count": 291,
   "id": "3c7f2afd",
   "metadata": {},
   "outputs": [
    {
     "data": {
      "image/png": "[encoded data removed]",
      "text/plain": [
       "<Figure size 720x360 with 1 Axes>"
      ]
     },
     "metadata": {
      "needs_background": "light"
     },
     "output_type": "display_data"
    }
   ],
   "source": [
    "univariate_plot('Fitness')"
   ]
  },
  {
   "cell_type": "markdown",
   "id": "9cd97e2e",
   "metadata": {},
   "source": [
    "- Most dominant fitness level is 3"
   ]
  },
  {
   "cell_type": "markdown",
   "id": "e4e4af56",
   "metadata": {},
   "source": [
    "### Income"
   ]
  },
  {
   "cell_type": "code",
   "execution_count": 292,
   "id": "c9e19bd1",
   "metadata": {},
   "outputs": [
    {
     "data": {
      "image/png": "[encoded data removed]",
      "text/plain": [
       "<Figure size 720x360 with 1 Axes>"
      ]
     },
     "metadata": {
      "needs_background": "light"
     },
     "output_type": "display_data"
    }
   ],
   "source": [
    "univariate_plot('Income', sns.histplot)"
   ]
  },
  {
   "cell_type": "markdown",
   "id": "41d4948c",
   "metadata": {},
   "source": [
    "- Most users earn between 30,000 - 60,000. The distribution is right skewed"
   ]
  },
  {
   "cell_type": "markdown",
   "id": "69573090",
   "metadata": {},
   "source": [
    "### Miles"
   ]
  },
  {
   "cell_type": "code",
   "execution_count": 293,
   "id": "7db5f0bc",
   "metadata": {},
   "outputs": [
    {
     "data": {
      "image/png": "[encoded data removed]",
      "text/plain": [
       "<Figure size 720x360 with 1 Axes>"
      ]
     },
     "metadata": {
      "needs_background": "light"
     },
     "output_type": "display_data"
    }
   ],
   "source": [
    "univariate_plot('Miles', sns.histplot)"
   ]
  },
  {
   "cell_type": "code",
   "execution_count": 294,
   "id": "058304c8",
   "metadata": {},
   "outputs": [
    {
     "data": {
      "text/plain": [
       "count    180.000000\n",
       "mean     103.194444\n",
       "std       51.863605\n",
       "min       21.000000\n",
       "25%       66.000000\n",
       "50%       94.000000\n",
       "75%      114.750000\n",
       "max      360.000000\n",
       "Name: Miles, dtype: float64"
      ]
     },
     "execution_count": 294,
     "metadata": {},
     "output_type": "execute_result"
    }
   ],
   "source": [
    "df['Miles'].describe()"
   ]
  },
  {
   "cell_type": "markdown",
   "id": "b262c118",
   "metadata": {},
   "source": [
    "- The distribution is right-skewed. Majority of users run between 66 - 114 miles"
   ]
  },
  {
   "cell_type": "code",
   "execution_count": 295,
   "id": "e4e19837",
   "metadata": {},
   "outputs": [
    {
     "data": {
      "text/plain": [
       "85"
      ]
     },
     "execution_count": 295,
     "metadata": {},
     "output_type": "execute_result"
    }
   ],
   "source": [
    "df['Miles'].mode()[0]"
   ]
  },
  {
   "cell_type": "markdown",
   "id": "451e46e4",
   "metadata": {},
   "source": [
    "- Many people run 85 miles"
   ]
  },
  {
   "cell_type": "markdown",
   "id": "58714796",
   "metadata": {},
   "source": [
    "### Multivariate Data Analysis"
   ]
  },
  {
   "cell_type": "code",
   "execution_count": 296,
   "id": "aa369e88",
   "metadata": {},
   "outputs": [
    {
     "data": {
      "text/html": [
       "<div>\n",
       "<style scoped>\n",
       "    .dataframe tbody tr th:only-of-type {\n",
       "        vertical-align: middle;\n",
       "    }\n",
       "\n",
       "    .dataframe tbody tr th {\n",
       "        vertical-align: top;\n",
       "    }\n",
       "\n",
       "    .dataframe thead th {\n",
       "        text-align: right;\n",
       "    }\n",
       "</style>\n",
       "<table border=\"1\" class=\"dataframe\">\n",
       "  <thead>\n",
       "    <tr style=\"text-align: right;\">\n",
       "      <th></th>\n",
       "      <th>Product</th>\n",
       "      <th>Age</th>\n",
       "      <th>Gender</th>\n",
       "      <th>Education</th>\n",
       "      <th>MaritalStatus</th>\n",
       "      <th>Usage</th>\n",
       "      <th>Fitness</th>\n",
       "      <th>Income</th>\n",
       "      <th>Miles</th>\n",
       "    </tr>\n",
       "  </thead>\n",
       "  <tbody>\n",
       "    <tr>\n",
       "      <th>0</th>\n",
       "      <td>TM195</td>\n",
       "      <td>18</td>\n",
       "      <td>Male</td>\n",
       "      <td>14</td>\n",
       "      <td>Single</td>\n",
       "      <td>3</td>\n",
       "      <td>4</td>\n",
       "      <td>29562</td>\n",
       "      <td>112</td>\n",
       "    </tr>\n",
       "    <tr>\n",
       "      <th>1</th>\n",
       "      <td>TM195</td>\n",
       "      <td>19</td>\n",
       "      <td>Male</td>\n",
       "      <td>15</td>\n",
       "      <td>Single</td>\n",
       "      <td>2</td>\n",
       "      <td>3</td>\n",
       "      <td>31836</td>\n",
       "      <td>75</td>\n",
       "    </tr>\n",
       "    <tr>\n",
       "      <th>2</th>\n",
       "      <td>TM195</td>\n",
       "      <td>19</td>\n",
       "      <td>Female</td>\n",
       "      <td>14</td>\n",
       "      <td>Partnered</td>\n",
       "      <td>4</td>\n",
       "      <td>3</td>\n",
       "      <td>30699</td>\n",
       "      <td>66</td>\n",
       "    </tr>\n",
       "    <tr>\n",
       "      <th>3</th>\n",
       "      <td>TM195</td>\n",
       "      <td>19</td>\n",
       "      <td>Male</td>\n",
       "      <td>12</td>\n",
       "      <td>Single</td>\n",
       "      <td>3</td>\n",
       "      <td>3</td>\n",
       "      <td>32973</td>\n",
       "      <td>85</td>\n",
       "    </tr>\n",
       "    <tr>\n",
       "      <th>4</th>\n",
       "      <td>TM195</td>\n",
       "      <td>20</td>\n",
       "      <td>Male</td>\n",
       "      <td>13</td>\n",
       "      <td>Partnered</td>\n",
       "      <td>4</td>\n",
       "      <td>2</td>\n",
       "      <td>35247</td>\n",
       "      <td>47</td>\n",
       "    </tr>\n",
       "  </tbody>\n",
       "</table>\n",
       "</div>"
      ],
      "text/plain": [
       "  Product  Age  Gender  Education MaritalStatus  Usage  Fitness  Income  Miles\n",
       "0   TM195   18    Male         14        Single      3        4   29562    112\n",
       "1   TM195   19    Male         15        Single      2        3   31836     75\n",
       "2   TM195   19  Female         14     Partnered      4        3   30699     66\n",
       "3   TM195   19    Male         12        Single      3        3   32973     85\n",
       "4   TM195   20    Male         13     Partnered      4        2   35247     47"
      ]
     },
     "execution_count": 296,
     "metadata": {},
     "output_type": "execute_result"
    }
   ],
   "source": [
    "df.head()"
   ]
  },
  {
   "cell_type": "markdown",
   "id": "da2a0f3c",
   "metadata": {},
   "source": [
    "### Correlation"
   ]
  },
  {
   "cell_type": "code",
   "execution_count": 297,
   "id": "de854145",
   "metadata": {},
   "outputs": [
    {
     "data": {
      "text/html": [
       "<div>\n",
       "<style scoped>\n",
       "    .dataframe tbody tr th:only-of-type {\n",
       "        vertical-align: middle;\n",
       "    }\n",
       "\n",
       "    .dataframe tbody tr th {\n",
       "        vertical-align: top;\n",
       "    }\n",
       "\n",
       "    .dataframe thead th {\n",
       "        text-align: right;\n",
       "    }\n",
       "</style>\n",
       "<table border=\"1\" class=\"dataframe\">\n",
       "  <thead>\n",
       "    <tr style=\"text-align: right;\">\n",
       "      <th></th>\n",
       "      <th>Age</th>\n",
       "      <th>Education</th>\n",
       "      <th>Usage</th>\n",
       "      <th>Fitness</th>\n",
       "      <th>Income</th>\n",
       "      <th>Miles</th>\n",
       "    </tr>\n",
       "  </thead>\n",
       "  <tbody>\n",
       "    <tr>\n",
       "      <th>0</th>\n",
       "      <td>18</td>\n",
       "      <td>14</td>\n",
       "      <td>3</td>\n",
       "      <td>4</td>\n",
       "      <td>29562</td>\n",
       "      <td>112</td>\n",
       "    </tr>\n",
       "    <tr>\n",
       "      <th>1</th>\n",
       "      <td>19</td>\n",
       "      <td>15</td>\n",
       "      <td>2</td>\n",
       "      <td>3</td>\n",
       "      <td>31836</td>\n",
       "      <td>75</td>\n",
       "    </tr>\n",
       "    <tr>\n",
       "      <th>2</th>\n",
       "      <td>19</td>\n",
       "      <td>14</td>\n",
       "      <td>4</td>\n",
       "      <td>3</td>\n",
       "      <td>30699</td>\n",
       "      <td>66</td>\n",
       "    </tr>\n",
       "    <tr>\n",
       "      <th>3</th>\n",
       "      <td>19</td>\n",
       "      <td>12</td>\n",
       "      <td>3</td>\n",
       "      <td>3</td>\n",
       "      <td>32973</td>\n",
       "      <td>85</td>\n",
       "    </tr>\n",
       "    <tr>\n",
       "      <th>4</th>\n",
       "      <td>20</td>\n",
       "      <td>13</td>\n",
       "      <td>4</td>\n",
       "      <td>2</td>\n",
       "      <td>35247</td>\n",
       "      <td>47</td>\n",
       "    </tr>\n",
       "    <tr>\n",
       "      <th>...</th>\n",
       "      <td>...</td>\n",
       "      <td>...</td>\n",
       "      <td>...</td>\n",
       "      <td>...</td>\n",
       "      <td>...</td>\n",
       "      <td>...</td>\n",
       "    </tr>\n",
       "    <tr>\n",
       "      <th>175</th>\n",
       "      <td>40</td>\n",
       "      <td>21</td>\n",
       "      <td>6</td>\n",
       "      <td>5</td>\n",
       "      <td>83416</td>\n",
       "      <td>200</td>\n",
       "    </tr>\n",
       "    <tr>\n",
       "      <th>176</th>\n",
       "      <td>42</td>\n",
       "      <td>18</td>\n",
       "      <td>5</td>\n",
       "      <td>4</td>\n",
       "      <td>89641</td>\n",
       "      <td>200</td>\n",
       "    </tr>\n",
       "    <tr>\n",
       "      <th>177</th>\n",
       "      <td>45</td>\n",
       "      <td>16</td>\n",
       "      <td>5</td>\n",
       "      <td>5</td>\n",
       "      <td>90886</td>\n",
       "      <td>160</td>\n",
       "    </tr>\n",
       "    <tr>\n",
       "      <th>178</th>\n",
       "      <td>47</td>\n",
       "      <td>18</td>\n",
       "      <td>4</td>\n",
       "      <td>5</td>\n",
       "      <td>104581</td>\n",
       "      <td>120</td>\n",
       "    </tr>\n",
       "    <tr>\n",
       "      <th>179</th>\n",
       "      <td>48</td>\n",
       "      <td>18</td>\n",
       "      <td>4</td>\n",
       "      <td>5</td>\n",
       "      <td>95508</td>\n",
       "      <td>180</td>\n",
       "    </tr>\n",
       "  </tbody>\n",
       "</table>\n",
       "<p>180 rows × 6 columns</p>\n",
       "</div>"
      ],
      "text/plain": [
       "     Age  Education  Usage  Fitness  Income  Miles\n",
       "0     18         14      3        4   29562    112\n",
       "1     19         15      2        3   31836     75\n",
       "2     19         14      4        3   30699     66\n",
       "3     19         12      3        3   32973     85\n",
       "4     20         13      4        2   35247     47\n",
       "..   ...        ...    ...      ...     ...    ...\n",
       "175   40         21      6        5   83416    200\n",
       "176   42         18      5        4   89641    200\n",
       "177   45         16      5        5   90886    160\n",
       "178   47         18      4        5  104581    120\n",
       "179   48         18      4        5   95508    180\n",
       "\n",
       "[180 rows x 6 columns]"
      ]
     },
     "execution_count": 297,
     "metadata": {},
     "output_type": "execute_result"
    }
   ],
   "source": [
    "num_df = df.select_dtypes(exclude='object')\n",
    "num_df"
   ]
  },
  {
   "cell_type": "code",
   "execution_count": 298,
   "id": "76f45777",
   "metadata": {},
   "outputs": [],
   "source": [
    "num_df_corr = num_df.corr()"
   ]
  },
  {
   "cell_type": "code",
   "execution_count": 299,
   "id": "5f501481",
   "metadata": {},
   "outputs": [
    {
     "data": {
      "image/png": "[encoded data removed]",
      "text/plain": [
       "<Figure size 600x400 with 2 Axes>"
      ]
     },
     "metadata": {
      "needs_background": "light"
     },
     "output_type": "display_data"
    }
   ],
   "source": [
    "plt.figure(dpi=100)\n",
    "sns.heatmap(data=num_df_corr, vmin=-1, vmax=1, annot=True);"
   ]
  },
  {
   "cell_type": "markdown",
   "id": "7862b418",
   "metadata": {},
   "source": [
    "- Age is moderately correlated with income\n",
    "- Education is moderately correlated with Income\n",
    "- Usage is moderately correlated with Fitness, Income and Miles\n",
    "- Fitness is moderately correlated with Miles"
   ]
  },
  {
   "cell_type": "code",
   "execution_count": 300,
   "id": "c444c45e",
   "metadata": {},
   "outputs": [
    {
     "data": {
      "image/png": "[encoded data removed]",
      "text/plain": [
       "<Figure size 432x288 with 1 Axes>"
      ]
     },
     "metadata": {
      "needs_background": "light"
     },
     "output_type": "display_data"
    }
   ],
   "source": [
    "sns.countplot(data=df, x='Product', hue='Gender')\n",
    "plt.title('Product Distribution conditioned by Gender');"
   ]
  },
  {
   "cell_type": "markdown",
   "id": "6c633012",
   "metadata": {},
   "source": [
    "- The TM195 treadmill is equally popular among males and females\n",
    "- Among the TM498 treadmill users, males slightly prefer it over females\n",
    "- The TM798 treadmill users are mostly males"
   ]
  },
  {
   "cell_type": "code",
   "execution_count": 301,
   "id": "6b093ab4",
   "metadata": {},
   "outputs": [
    {
     "data": {
      "image/png": "[encoded data removed]",
      "text/plain": [
       "<Figure size 720x360 with 1 Axes>"
      ]
     },
     "metadata": {
      "needs_background": "light"
     },
     "output_type": "display_data"
    }
   ],
   "source": [
    "plt.figure(figsize=(10, 5))\n",
    "sns.boxplot(data=df, x='Product', y='Age', hue='Gender')\n",
    "plt.title('Age by Product conditioned by Gender');"
   ]
  },
  {
   "cell_type": "markdown",
   "id": "e265fd02",
   "metadata": {},
   "source": [
    "- Most middle aged women prefer the TM195 treadmill\n",
    "- Many middle aged men purchase either the TM195 or the TM498 treadmill\n",
    "- Many users of the TM798 are young males and females in their mid 20s to early 30s"
   ]
  },
  {
   "cell_type": "code",
   "execution_count": 302,
   "id": "fe235038",
   "metadata": {},
   "outputs": [
    {
     "data": {
      "image/png": "[encoded data removed]",
      "text/plain": [
       "<Figure size 720x360 with 1 Axes>"
      ]
     },
     "metadata": {
      "needs_background": "light"
     },
     "output_type": "display_data"
    }
   ],
   "source": [
    "plt.figure(figsize=(10, 5))\n",
    "sns.boxplot(data=df, x='Product', y='Income')\n",
    "plt.title('Income by Product');"
   ]
  },
  {
   "cell_type": "markdown",
   "id": "db57e705",
   "metadata": {},
   "source": [
    "- The TM195 treadmill is probably the least expensive, as it is bought mostly by people with lower income levels. It could also be the reason it is the most purchased product.\n",
    "\n",
    "- This is followed by the TM498 treadmill which costs higher than the TM195 but lower than the TM798 which is probably the most expensive treadmill."
   ]
  },
  {
   "cell_type": "code",
   "execution_count": 303,
   "id": "bb006209",
   "metadata": {},
   "outputs": [
    {
     "data": {
      "image/png": "[encoded data removed]",
      "text/plain": [
       "<Figure size 720x360 with 1 Axes>"
      ]
     },
     "metadata": {
      "needs_background": "light"
     },
     "output_type": "display_data"
    }
   ],
   "source": [
    "plt.figure(figsize=(10, 5))\n",
    "sns.boxplot(data=df, x='Gender', y='Education')\n",
    "plt.title('Education by Gender');"
   ]
  },
  {
   "cell_type": "markdown",
   "id": "46ee09e3",
   "metadata": {},
   "source": [
    "- Females have higher education levels than males"
   ]
  },
  {
   "cell_type": "code",
   "execution_count": 304,
   "id": "0aff5e59",
   "metadata": {},
   "outputs": [
    {
     "data": {
      "image/png": "[encoded data removed]",
      "text/plain": [
       "<Figure size 720x360 with 1 Axes>"
      ]
     },
     "metadata": {
      "needs_background": "light"
     },
     "output_type": "display_data"
    }
   ],
   "source": [
    "plt.figure(figsize=(10, 5))\n",
    "sns.boxplot(data=df, x='MaritalStatus', y='Age')\n",
    "plt.title('Age by Marital Status');"
   ]
  },
  {
   "cell_type": "markdown",
   "id": "52542b2e",
   "metadata": {},
   "source": [
    "- Many older people are in relationships compared to younder people who are mostly single "
   ]
  },
  {
   "cell_type": "code",
   "execution_count": 305,
   "id": "ada3072b",
   "metadata": {},
   "outputs": [
    {
     "data": {
      "image/png": "[encoded data removed]",
      "text/plain": [
       "<Figure size 720x360 with 1 Axes>"
      ]
     },
     "metadata": {
      "needs_background": "light"
     },
     "output_type": "display_data"
    }
   ],
   "source": [
    "plt.figure(figsize=(10, 5))\n",
    "sns.boxplot(data=df, x='MaritalStatus', y='Usage')\n",
    "plt.title('Usage by Marital Status');"
   ]
  },
  {
   "cell_type": "markdown",
   "id": "fcfeccce",
   "metadata": {},
   "source": [
    "- Usage is similar among single or partnered customers"
   ]
  },
  {
   "cell_type": "code",
   "execution_count": 306,
   "id": "f6a5f125",
   "metadata": {},
   "outputs": [
    {
     "data": {
      "image/png": "[encoded data removed]",
      "text/plain": [
       "<Figure size 720x360 with 1 Axes>"
      ]
     },
     "metadata": {
      "needs_background": "light"
     },
     "output_type": "display_data"
    }
   ],
   "source": [
    "plt.figure(figsize=(10, 5))\n",
    "sns.boxplot(data=df, x='Usage', y='Education')\n",
    "plt.title('Education by Usage');"
   ]
  },
  {
   "cell_type": "markdown",
   "id": "bc20e716",
   "metadata": {},
   "source": [
    "- More educated people tend to exercise more"
   ]
  },
  {
   "cell_type": "code",
   "execution_count": 307,
   "id": "0e3372cc",
   "metadata": {},
   "outputs": [
    {
     "data": {
      "image/png": "[encoded data removed]",
      "text/plain": [
       "<Figure size 720x360 with 1 Axes>"
      ]
     },
     "metadata": {
      "needs_background": "light"
     },
     "output_type": "display_data"
    }
   ],
   "source": [
    "plt.figure(figsize=(10, 5))\n",
    "sns.boxplot(data=df, x='Gender', y='Income')\n",
    "plt.title('Income by Gender');"
   ]
  },
  {
   "cell_type": "markdown",
   "id": "2c9b96cc",
   "metadata": {},
   "source": [
    "- Men earn more than women"
   ]
  },
  {
   "cell_type": "code",
   "execution_count": 308,
   "id": "59b46f89",
   "metadata": {},
   "outputs": [
    {
     "data": {
      "image/png": "[encoded data removed]",
      "text/plain": [
       "<Figure size 720x360 with 1 Axes>"
      ]
     },
     "metadata": {
      "needs_background": "light"
     },
     "output_type": "display_data"
    }
   ],
   "source": [
    "plt.figure(figsize=(10, 5))\n",
    "sns.boxplot(data=df, x='Gender', y='Income', hue='Product')\n",
    "plt.title('Income by Gender conditioned by Product');"
   ]
  },
  {
   "cell_type": "code",
   "execution_count": 309,
   "id": "51dc85cc",
   "metadata": {},
   "outputs": [
    {
     "data": {
      "image/png": "[encoded data removed]",
      "text/plain": [
       "<Figure size 720x360 with 1 Axes>"
      ]
     },
     "metadata": {
      "needs_background": "light"
     },
     "output_type": "display_data"
    }
   ],
   "source": [
    "plt.figure(figsize=(10, 5))\n",
    "sns.boxplot(data=df, x='Fitness', y='Age')\n",
    "plt.title('Age by Fitness');"
   ]
  },
  {
   "cell_type": "markdown",
   "id": "b474af56",
   "metadata": {},
   "source": [
    "- Younger customers tend to be more fit than older customers. Most customers are between 3 - 4 level of fitness."
   ]
  },
  {
   "cell_type": "code",
   "execution_count": 310,
   "id": "bc4fb300",
   "metadata": {},
   "outputs": [
    {
     "data": {
      "text/plain": [
       "<Figure size 720x360 with 0 Axes>"
      ]
     },
     "metadata": {},
     "output_type": "display_data"
    },
    {
     "data": {
      "image/png": "[encoded data removed]",
      "text/plain": [
       "<Figure size 360x360 with 1 Axes>"
      ]
     },
     "metadata": {
      "needs_background": "light"
     },
     "output_type": "display_data"
    }
   ],
   "source": [
    "plt.figure(figsize=(10, 5))\n",
    "sns.catplot(data=df, x='Fitness', y='Miles', kind='bar')\n",
    "plt.title('Miles by Fitness');"
   ]
  },
  {
   "cell_type": "markdown",
   "id": "05f95f7b",
   "metadata": {},
   "source": [
    "- Customers with higher fitness levels tend to run more miles "
   ]
  },
  {
   "cell_type": "code",
   "execution_count": 311,
   "id": "966d1ef1",
   "metadata": {},
   "outputs": [
    {
     "data": {
      "text/plain": [
       "<Figure size 720x360 with 0 Axes>"
      ]
     },
     "metadata": {},
     "output_type": "display_data"
    },
    {
     "data": {
      "image/png": "[encoded data removed]",
      "text/plain": [
       "<Figure size 360x360 with 1 Axes>"
      ]
     },
     "metadata": {
      "needs_background": "light"
     },
     "output_type": "display_data"
    }
   ],
   "source": [
    "plt.figure(figsize=(10, 5))\n",
    "sns.catplot(data=df, x='Gender', y='Fitness', kind='bar')\n",
    "plt.title('Fitness by Gender');"
   ]
  },
  {
   "cell_type": "markdown",
   "id": "252721e0",
   "metadata": {},
   "source": [
    "- Males tend to be more fit than females"
   ]
  },
  {
   "cell_type": "code",
   "execution_count": 312,
   "id": "74514209",
   "metadata": {},
   "outputs": [
    {
     "data": {
      "text/plain": [
       "<Figure size 720x360 with 0 Axes>"
      ]
     },
     "metadata": {},
     "output_type": "display_data"
    },
    {
     "data": {
      "image/png": "[encoded data removed]",
      "text/plain": [
       "<Figure size 360x360 with 1 Axes>"
      ]
     },
     "metadata": {
      "needs_background": "light"
     },
     "output_type": "display_data"
    }
   ],
   "source": [
    "plt.figure(figsize=(10, 5))\n",
    "sns.catplot(data=df, x='Gender', y='Usage', kind='bar')\n",
    "plt.title('Usage by Gender');"
   ]
  },
  {
   "cell_type": "markdown",
   "id": "0a5eede3",
   "metadata": {},
   "source": [
    "- Males use the products more than females"
   ]
  },
  {
   "cell_type": "code",
   "execution_count": 313,
   "id": "03490759",
   "metadata": {},
   "outputs": [
    {
     "data": {
      "image/png": "[encoded data removed]",
      "text/plain": [
       "<Figure size 720x360 with 1 Axes>"
      ]
     },
     "metadata": {
      "needs_background": "light"
     },
     "output_type": "display_data"
    }
   ],
   "source": [
    "plt.figure(figsize=(10, 5))\n",
    "sns.boxplot(data=df, x='Usage', y='Age')\n",
    "plt.title('Age by Usage');"
   ]
  },
  {
   "cell_type": "markdown",
   "id": "4756d89a",
   "metadata": {},
   "source": [
    "- Younger people tend to use the treadmill more times than older people. Most people use it 3 times a week "
   ]
  },
  {
   "cell_type": "markdown",
   "id": "2eee3228",
   "metadata": {},
   "source": [
    "### Recommendations"
   ]
  },
  {
   "cell_type": "markdown",
   "id": "2403da82",
   "metadata": {},
   "source": [
    "- The TM195 treadmill is the most popular treadmill probably due to the fact that it is the least expensive. It is equally popular among males and females. The target market for this product should be low earners who are young and/or just starting out their fitness journey. The low price would motivate purchase among this group of persons compared to the more expensive treadmill brands."
   ]
  },
  {
   "cell_type": "markdown",
   "id": "48777796",
   "metadata": {},
   "source": [
    "- The TM498 and TM798 brands should be targeted at higher earning customers, espcially males, as they have a higher fitness level and usage than females and they generally earn more than females. These products, especially the TM798 brand, could be marketed as status products to encourage 'snob purchase' among the affluent customers."
   ]
  },
  {
   "cell_type": "markdown",
   "id": "b50bb377",
   "metadata": {},
   "source": [
    "- All products should be targeted mostly at educated customers. It was observed that usage is higher among educted customers"
   ]
  },
  {
   "cell_type": "code",
   "execution_count": null,
   "id": "325e8de7",
   "metadata": {},
   "outputs": [],
   "source": []
  }
 ],
 "metadata": {
  "kernelspec": {
   "display_name": "Python 3 (ipykernel)",
   "language": "python",
   "name": "python3"
  },
  "language_info": {
   "codemirror_mode": {
    "name": "ipython",
    "version": 3
   },
   "file_extension": ".py",
   "mimetype": "text/x-python",
   "name": "python",
   "nbconvert_exporter": "python",
   "pygments_lexer": "ipython3",
   "version": "3.9.12"
  }
 },
 "nbformat": 4,
 "nbformat_minor": 5
}
